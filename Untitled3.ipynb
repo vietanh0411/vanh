{
 "cells": [
  {
   "cell_type": "code",
   "execution_count": null,
   "id": "5429c927",
   "metadata": {},
   "outputs": [],
   "source": [
    "while True: \n",
    "    a = int(input(\"nhap vao mot so:\"))\n",
    "    print(\"gia tri so ban nhap la:\", a)\n",
    "    s = input (\"ban co muon tiep tuc khong?(c/k):\")\n",
    "    if s== \"c\":\n",
    "        break\n",
    "    print (\"bye bye!\")\n",
    "    "
   ]
  },
  {
   "cell_type": "code",
   "execution_count": null,
   "id": "2454937d",
   "metadata": {},
   "outputs": [],
   "source": [
    "count = 0\n",
    "while (count < 10):\n",
    "    count = count + 1\n",
    "    print(\"số đếm là:\", count)\n",
    "    if count == 5:\n",
    "        break"
   ]
  },
  {
   "cell_type": "code",
   "execution_count": null,
   "id": "2010d6dc",
   "metadata": {},
   "outputs": [],
   "source": [
    "# continue\n",
    "count = 0\n",
    "while (count < 10):\n",
    "    \n",
    "    if count == 5:\n",
    "        count = count + 1\n",
    "        continue  \n",
    "    print(\"số đếm là:\", count)\n",
    "    count = count + 1"
   ]
  },
  {
   "cell_type": "code",
   "execution_count": null,
   "id": "923a765e",
   "metadata": {},
   "outputs": [],
   "source": []
  },
  {
   "cell_type": "code",
   "execution_count": null,
   "id": "7b711564",
   "metadata": {},
   "outputs": [],
   "source": [
    "def hello_there():\n",
    "    print(\"Type your name:\")\n",
    "    name = input()\n",
    "    print(\"Hi\",name,\"how are you?\")\n",
    "    "
   ]
  },
  {
   "cell_type": "code",
   "execution_count": null,
   "id": "94a3005c",
   "metadata": {},
   "outputs": [],
   "source": [
    "def hello_there():\n",
    "    print(\"Type your name:\")\n",
    "    name = input()\n",
    "    print(\"Hi\",name,\"how are you?\")\n",
    "    "
   ]
  },
  {
   "cell_type": "markdown",
   "id": "8abcb932",
   "metadata": {},
   "source": [
    "# "
   ]
  },
  {
   "cell_type": "markdown",
   "id": "07e043a0",
   "metadata": {},
   "source": [
    "### "
   ]
  },
  {
   "cell_type": "markdown",
   "id": "050621ef",
   "metadata": {},
   "source": [
    "### "
   ]
  }
 ],
 "metadata": {
  "kernelspec": {
   "display_name": "Python 3 (ipykernel)",
   "language": "python",
   "name": "python3"
  },
  "language_info": {
   "codemirror_mode": {
    "name": "ipython",
    "version": 3
   },
   "file_extension": ".py",
   "mimetype": "text/x-python",
   "name": "python",
   "nbconvert_exporter": "python",
   "pygments_lexer": "ipython3",
   "version": "3.9.7"
  }
 },
 "nbformat": 4,
 "nbformat_minor": 5
}
