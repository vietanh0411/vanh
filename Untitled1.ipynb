{
 "cells": [
  {
   "cell_type": "code",
   "execution_count": 1,
   "id": "7d516e78",
   "metadata": {},
   "outputs": [
    {
     "data": {
      "text/plain": [
       "9"
      ]
     },
     "execution_count": 1,
     "metadata": {},
     "output_type": "execute_result"
    }
   ],
   "source": [
    "1+2+6"
   ]
  },
  {
   "cell_type": "code",
   "execution_count": 2,
   "id": "1ebda554",
   "metadata": {},
   "outputs": [
    {
     "data": {
      "text/plain": [
       "3.33333"
      ]
     },
     "execution_count": 2,
     "metadata": {},
     "output_type": "execute_result"
    }
   ],
   "source": [
    "round(10/3,5)"
   ]
  },
  {
   "cell_type": "code",
   "execution_count": 3,
   "id": "59d43d2b",
   "metadata": {},
   "outputs": [
    {
     "data": {
      "text/plain": [
       "80"
      ]
     },
     "execution_count": 3,
     "metadata": {},
     "output_type": "execute_result"
    }
   ],
   "source": [
    "10*8"
   ]
  },
  {
   "cell_type": "code",
   "execution_count": 4,
   "id": "824c41d8",
   "metadata": {},
   "outputs": [
    {
     "data": {
      "text/plain": [
       "True"
      ]
     },
     "execution_count": 4,
     "metadata": {},
     "output_type": "execute_result"
    }
   ],
   "source": [
    "5 == 5"
   ]
  },
  {
   "cell_type": "code",
   "execution_count": 5,
   "id": "e6ae06f6",
   "metadata": {},
   "outputs": [
    {
     "data": {
      "text/plain": [
       "True"
      ]
     },
     "execution_count": 5,
     "metadata": {},
     "output_type": "execute_result"
    }
   ],
   "source": [
    "5<4+3"
   ]
  },
  {
   "cell_type": "code",
   "execution_count": 6,
   "id": "1d3facc2",
   "metadata": {},
   "outputs": [
    {
     "data": {
      "text/plain": [
       "False"
      ]
     },
     "execution_count": 6,
     "metadata": {},
     "output_type": "execute_result"
    }
   ],
   "source": [
    "16!=16"
   ]
  },
  {
   "cell_type": "code",
   "execution_count": 7,
   "id": "9132d6fe",
   "metadata": {},
   "outputs": [
    {
     "data": {
      "text/plain": [
       "4"
      ]
     },
     "execution_count": 7,
     "metadata": {},
     "output_type": "execute_result"
    }
   ],
   "source": [
    "# Phép chia lấy phần nguyên\n",
    "9 // 2"
   ]
  },
  {
   "cell_type": "code",
   "execution_count": 8,
   "id": "263c1b94",
   "metadata": {},
   "outputs": [
    {
     "data": {
      "text/plain": [
       "1"
      ]
     },
     "execution_count": 8,
     "metadata": {},
     "output_type": "execute_result"
    }
   ],
   "source": [
    "# Phép chia lấy phần dư\n",
    "9%2"
   ]
  },
  {
   "cell_type": "code",
   "execution_count": 9,
   "id": "e2990f3a",
   "metadata": {},
   "outputs": [
    {
     "data": {
      "text/plain": [
       "64"
      ]
     },
     "execution_count": 9,
     "metadata": {},
     "output_type": "execute_result"
    }
   ],
   "source": [
    "# phép chia lấy lũy thừa\n",
    "4**3\n"
   ]
  },
  {
   "cell_type": "markdown",
   "id": "e3b43dd2",
   "metadata": {},
   "source": []
  },
  {
   "cell_type": "code",
   "execution_count": 10,
   "id": "7e4481de",
   "metadata": {},
   "outputs": [
    {
     "data": {
      "text/plain": [
       "7"
      ]
     },
     "execution_count": 10,
     "metadata": {},
     "output_type": "execute_result"
    }
   ],
   "source": [
    "1+2*3+6-7+(5-4)"
   ]
  },
  {
   "cell_type": "markdown",
   "id": "1b39494b",
   "metadata": {},
   "source": [
    " ## Strings"
   ]
  },
  {
   "cell_type": "code",
   "execution_count": 11,
   "id": "32ab6788",
   "metadata": {},
   "outputs": [
    {
     "data": {
      "text/plain": [
       "'Hello!'"
      ]
     },
     "execution_count": 11,
     "metadata": {},
     "output_type": "execute_result"
    }
   ],
   "source": [
    "\"Hello!\""
   ]
  },
  {
   "cell_type": "code",
   "execution_count": 12,
   "id": "187402b3",
   "metadata": {},
   "outputs": [
    {
     "data": {
      "text/plain": [
       "'apple'"
      ]
     },
     "execution_count": 12,
     "metadata": {},
     "output_type": "execute_result"
    }
   ],
   "source": [
    "\"apple\""
   ]
  },
  {
   "cell_type": "code",
   "execution_count": 13,
   "id": "65fe7c90",
   "metadata": {},
   "outputs": [
    {
     "data": {
      "text/plain": [
       "'2+5'"
      ]
     },
     "execution_count": 13,
     "metadata": {},
     "output_type": "execute_result"
    }
   ],
   "source": [
    "'2+5'"
   ]
  },
  {
   "cell_type": "markdown",
   "id": "a762959b",
   "metadata": {},
   "source": [
    " ### string operators\n",
    " -comcatenation\n",
    " -multiplication\n"
   ]
  },
  {
   "cell_type": "markdown",
   "id": "8e83ad43",
   "metadata": {},
   "source": [
    " ### string operators\n",
    " - comcatenation\n",
    " - mulitiplication"
   ]
  },
  {
   "cell_type": "markdown",
   "id": "91f630f4",
   "metadata": {},
   "source": [
    " ### string index\n",
    " \n",
    " Rules:\n",
    "- Indexes start at 0\n",
    "- Spaces inside the string are counted"
   ]
  },
  {
   "cell_type": "code",
   "execution_count": 14,
   "id": "68e5f462",
   "metadata": {},
   "outputs": [
    {
     "data": {
      "text/plain": [
       "'hello'"
      ]
     },
     "execution_count": 14,
     "metadata": {},
     "output_type": "execute_result"
    }
   ],
   "source": [
    "'h'+'e'+'l'+'l'+'o'"
   ]
  },
  {
   "cell_type": "code",
   "execution_count": 15,
   "id": "f62e6880",
   "metadata": {},
   "outputs": [
    {
     "data": {
      "text/plain": [
       "'h'"
      ]
     },
     "execution_count": 15,
     "metadata": {},
     "output_type": "execute_result"
    }
   ],
   "source": [
    "'hello'[0]"
   ]
  },
  {
   "cell_type": "code",
   "execution_count": 16,
   "id": "56977f8a",
   "metadata": {},
   "outputs": [
    {
     "data": {
      "text/plain": [
       "' '"
      ]
     },
     "execution_count": 16,
     "metadata": {},
     "output_type": "execute_result"
    }
   ],
   "source": [
    "'hey, Trang'[4]"
   ]
  },
  {
   "cell_type": "markdown",
   "id": "032cf743",
   "metadata": {},
   "source": [
    " ### String functions"
   ]
  },
  {
   "cell_type": "code",
   "execution_count": 17,
   "id": "d2f17956",
   "metadata": {},
   "outputs": [
    {
     "data": {
      "text/plain": [
       "'ĐẶNG VIỆT ANH'"
      ]
     },
     "execution_count": 17,
     "metadata": {},
     "output_type": "execute_result"
    }
   ],
   "source": [
    "'Đặng Việt Anh'.upper()"
   ]
  },
  {
   "cell_type": "code",
   "execution_count": 18,
   "id": "699be60f",
   "metadata": {},
   "outputs": [
    {
     "data": {
      "text/plain": [
       "'đặng việt anh'"
      ]
     },
     "execution_count": 18,
     "metadata": {},
     "output_type": "execute_result"
    }
   ],
   "source": [
    "'Đặng Việt Anh'.lower()"
   ]
  },
  {
   "cell_type": "code",
   "execution_count": 19,
   "id": "1c255e50",
   "metadata": {},
   "outputs": [
    {
     "ename": "SyntaxError",
     "evalue": "invalid syntax (2016375570.py, line 1)",
     "output_type": "error",
     "traceback": [
      "\u001b[0;36m  Cell \u001b[0;32mIn [19], line 1\u001b[0;36m\u001b[0m\n\u001b[0;31m    len'Đặng Việt Anh'\u001b[0m\n\u001b[0m       ^\u001b[0m\n\u001b[0;31mSyntaxError\u001b[0m\u001b[0;31m:\u001b[0m invalid syntax\n"
     ]
    }
   ],
   "source": [
    "len'Đặng Việt Anh'"
   ]
  },
  {
   "cell_type": "code",
   "execution_count": null,
   "id": "fb8ac819",
   "metadata": {},
   "outputs": [],
   "source": [
    "len(\" this is a string \")"
   ]
  },
  {
   "cell_type": "code",
   "execution_count": null,
   "id": "68411df9",
   "metadata": {},
   "outputs": [],
   "source": [
    "'   this is a string  '.strip()"
   ]
  },
  {
   "cell_type": "markdown",
   "id": "d18f2a47",
   "metadata": {},
   "source": [
    " ### variable"
   ]
  },
  {
   "cell_type": "markdown",
   "id": "90902cd6",
   "metadata": {},
   "source": [
    " ### Types of data"
   ]
  },
  {
   "cell_type": "code",
   "execution_count": null,
   "id": "fb83349c",
   "metadata": {},
   "outputs": [],
   "source": [
    "s = 'hello'"
   ]
  },
  {
   "cell_type": "code",
   "execution_count": null,
   "id": "b099ca6e",
   "metadata": {},
   "outputs": [],
   "source": [
    "type(s)"
   ]
  },
  {
   "cell_type": "code",
   "execution_count": null,
   "id": "bf3ea99a",
   "metadata": {},
   "outputs": [],
   "source": [
    "s=5"
   ]
  },
  {
   "cell_type": "code",
   "execution_count": null,
   "id": "4d05ac8a",
   "metadata": {},
   "outputs": [],
   "source": [
    "type(s)"
   ]
  },
  {
   "cell_type": "code",
   "execution_count": null,
   "id": "39212d2c",
   "metadata": {},
   "outputs": [],
   "source": [
    "s=14.6"
   ]
  },
  {
   "cell_type": "code",
   "execution_count": null,
   "id": "962918b0",
   "metadata": {},
   "outputs": [],
   "source": [
    "type(s)"
   ]
  },
  {
   "cell_type": "markdown",
   "id": "69de0c2a",
   "metadata": {},
   "source": [
    " ### lists (danh sach)\n",
    " danh sách là 1 chuỗi của các đối tượng (objects)"
   ]
  },
  {
   "cell_type": "code",
   "execution_count": null,
   "id": "b4ed2fe1",
   "metadata": {},
   "outputs": [],
   "source": [
    "fruit = ['apple','banana']"
   ]
  },
  {
   "cell_type": "code",
   "execution_count": null,
   "id": "8386b2e0",
   "metadata": {},
   "outputs": [],
   "source": [
    "type(fruit)"
   ]
  },
  {
   "cell_type": "code",
   "execution_count": null,
   "id": "ea031c95",
   "metadata": {},
   "outputs": [],
   "source": [
    "numbers = [3,4,5,6,7]"
   ]
  },
  {
   "cell_type": "code",
   "execution_count": null,
   "id": "49f6a71d",
   "metadata": {},
   "outputs": [],
   "source": [
    "type(numbers)"
   ]
  },
  {
   "cell_type": "code",
   "execution_count": null,
   "id": "a17f47e0",
   "metadata": {},
   "outputs": [],
   "source": [
    "colors = ['blue','red','black']"
   ]
  },
  {
   "cell_type": "code",
   "execution_count": null,
   "id": "65cb0e04",
   "metadata": {},
   "outputs": [],
   "source": [
    "type(colors)"
   ]
  },
  {
   "cell_type": "code",
   "execution_count": null,
   "id": "d7179ca8",
   "metadata": {},
   "outputs": [],
   "source": [
    "colors[-2]"
   ]
  },
  {
   "cell_type": "code",
   "execution_count": null,
   "id": "d6681b85",
   "metadata": {},
   "outputs": [],
   "source": [
    "colors[-3]"
   ]
  },
  {
   "cell_type": "code",
   "execution_count": null,
   "id": "bb0530c7",
   "metadata": {},
   "outputs": [],
   "source": [
    "\n"
   ]
  },
  {
   "cell_type": "code",
   "execution_count": null,
   "id": "4c4dffc9",
   "metadata": {},
   "outputs": [],
   "source": [
    "lst[::-1]"
   ]
  },
  {
   "cell_type": "markdown",
   "id": "ec6b55fd",
   "metadata": {},
   "source": [
    " ### một số hàm/phương thức cho list \n",
    " \n",
    " slicing: lấy ra danh sách con ls[begin:end:step]"
   ]
  },
  {
   "cell_type": "code",
   "execution_count": null,
   "id": "808962ea",
   "metadata": {},
   "outputs": [],
   "source": [
    "lst=[10,20,30,40,50,60,70,80,90]"
   ]
  },
  {
   "cell_type": "code",
   "execution_count": null,
   "id": "e864b599",
   "metadata": {},
   "outputs": [],
   "source": [
    "lst[0:3]"
   ]
  },
  {
   "cell_type": "code",
   "execution_count": null,
   "id": "301694f6",
   "metadata": {},
   "outputs": [],
   "source": [
    "lst[-5:-3]"
   ]
  },
  {
   "cell_type": "code",
   "execution_count": null,
   "id": "5e1f623e",
   "metadata": {},
   "outputs": [],
   "source": [
    "lst[::2]"
   ]
  },
  {
   "cell_type": "code",
   "execution_count": null,
   "id": "09316182",
   "metadata": {},
   "outputs": [],
   "source": [
    "# Insert\n",
    "lst.insert(2,9)"
   ]
  },
  {
   "cell_type": "code",
   "execution_count": null,
   "id": "5a2da922",
   "metadata": {},
   "outputs": [],
   "source": [
    "lst"
   ]
  },
  {
   "cell_type": "code",
   "execution_count": null,
   "id": "f4e9f7fa",
   "metadata": {},
   "outputs": [],
   "source": [
    "# remove\n",
    "lst.remove(9)"
   ]
  },
  {
   "cell_type": "code",
   "execution_count": null,
   "id": "3d34f2d8",
   "metadata": {},
   "outputs": [],
   "source": [
    "lst\n"
   ]
  },
  {
   "cell_type": "code",
   "execution_count": null,
   "id": "cdb6d361",
   "metadata": {},
   "outputs": [],
   "source": [
    "# reverse\n",
    "lst.reverse()"
   ]
  },
  {
   "cell_type": "code",
   "execution_count": null,
   "id": "e301fdf4",
   "metadata": {},
   "outputs": [],
   "source": [
    "lst"
   ]
  },
  {
   "cell_type": "code",
   "execution_count": null,
   "id": "858f21c6",
   "metadata": {},
   "outputs": [],
   "source": [
    "del lst[0]"
   ]
  },
  {
   "cell_type": "code",
   "execution_count": null,
   "id": "8f8fa28c",
   "metadata": {},
   "outputs": [],
   "source": [
    "lst\n"
   ]
  },
  {
   "cell_type": "code",
   "execution_count": null,
   "id": "1f9d5ac1",
   "metadata": {},
   "outputs": [],
   "source": [
    "# sort\n",
    "lst.sort()"
   ]
  },
  {
   "cell_type": "code",
   "execution_count": null,
   "id": "00e329a8",
   "metadata": {},
   "outputs": [],
   "source": [
    "lst\n"
   ]
  },
  {
   "cell_type": "code",
   "execution_count": null,
   "id": "4238d9f2",
   "metadata": {},
   "outputs": [],
   "source": [
    "lst.sort(reverse=True)"
   ]
  },
  {
   "cell_type": "markdown",
   "id": "721ec917",
   "metadata": {},
   "source": [
    " ### biểu thức điều khiển và vòng lập\n",
    " if statement"
   ]
  },
  {
   "cell_type": "code",
   "execution_count": null,
   "id": "68e8a813",
   "metadata": {},
   "outputs": [],
   "source": [
    "name = input(\"nhap ten cua ban:\")"
   ]
  },
  {
   "cell_type": "code",
   "execution_count": null,
   "id": "f94679e5",
   "metadata": {},
   "outputs": [],
   "source": [
    "if name == \"anh\":\n",
    "    print(\"hi anh\")\n",
    "elif name == \"john\":\n",
    "    print(\"hi john\")\n",
    "else:\n",
    "    print(\"khong phai la anh, ma la\", name)"
   ]
  },
  {
   "cell_type": "markdown",
   "id": "e4057a5f",
   "metadata": {},
   "source": [
    " ### vòng lặp (loops)\n",
    " -counting loops(lặp đếm) \n",
    " -couditional loops(lặp điều kiện)"
   ]
  },
  {
   "cell_type": "code",
   "execution_count": null,
   "id": "470420ef",
   "metadata": {},
   "outputs": [],
   "source": [
    "# counting loops - for\n",
    "for myum in [1,2,3,4,5]:\n",
    "    newum = myum + 1\n",
    "    print(\"số mới là\",newum)"
   ]
  },
  {
   "cell_type": "code",
   "execution_count": null,
   "id": "680b5205",
   "metadata": {},
   "outputs": [],
   "source": [
    "# couditional loops - while\n",
    "count = 0\n",
    "while (count < 10):\n",
    "    print(\"số đếm là:\",count)\n",
    "    count = count + 1"
   ]
  },
  {
   "cell_type": "markdown",
   "id": "c25f7728",
   "metadata": {},
   "source": [
    "###  break & continue"
   ]
  },
  {
   "cell_type": "code",
   "execution_count": null,
   "id": "3202deb3",
   "metadata": {},
   "outputs": [],
   "source": [
    "while True : \n",
    "    a = int(input(\"nhap vao mot so:\"))\n",
    "    print(\"gia tri so ban nhap la:\", a)\n",
    "    s = input (\"ban co muon tiep tuc khong?(c/k):\")\n",
    "    if s== \"c\":\n",
    "        break\n",
    "    print (\"bye bye!\")"
   ]
  },
  {
   "cell_type": "code",
   "execution_count": null,
   "id": "da61f735",
   "metadata": {},
   "outputs": [],
   "source": [
    "# continue\n",
    "count = 0\n",
    "while (count < 10):\n",
    "    \n",
    "    if count == 5:\n",
    "        count = count + 1\n",
    "        continue  \n",
    "    print(\"số đếm là:\", count)\n",
    "    count = count + 1\n",
    "    "
   ]
  },
  {
   "cell_type": "code",
   "execution_count": null,
   "id": "c50cc190",
   "metadata": {},
   "outputs": [],
   "source": [
    "count = 0\n",
    "while (count < 10):\n",
    "    count = count + 1\n",
    "    print(\"số đếm là:\", count)\n",
    "    if count == 5:\n",
    "        break"
   ]
  },
  {
   "cell_type": "markdown",
   "id": "2acb435f",
   "metadata": {},
   "source": [
    " ### Funcition: Output\n",
    " "
   ]
  },
  {
   "cell_type": "code",
   "execution_count": null,
   "id": "b158e582",
   "metadata": {},
   "outputs": [],
   "source": [
    "def multiply(so1, so2):\n",
    "    print(so1 * so2)"
   ]
  },
  {
   "cell_type": "code",
   "execution_count": null,
   "id": "9738bbf9",
   "metadata": {},
   "outputs": [],
   "source": [
    "multiply(2,6)"
   ]
  },
  {
   "cell_type": "code",
   "execution_count": null,
   "id": "47c9905a",
   "metadata": {},
   "outputs": [],
   "source": [
    "def tich_haiso(so1, so2):\n",
    "    return (so1 *so2)"
   ]
  },
  {
   "cell_type": "code",
   "execution_count": null,
   "id": "4343c7b3",
   "metadata": {},
   "outputs": [],
   "source": [
    "tich_haiso(2,6)"
   ]
  },
  {
   "cell_type": "code",
   "execution_count": null,
   "id": "c8d9bf73",
   "metadata": {},
   "outputs": [],
   "source": [
    "kp = tich_haiso(2,6)"
   ]
  },
  {
   "cell_type": "markdown",
   "id": "cd55cc16",
   "metadata": {},
   "source": [
    "### Input\n"
   ]
  },
  {
   "cell_type": "code",
   "execution_count": null,
   "id": "8b820d34",
   "metadata": {},
   "outputs": [],
   "source": [
    "def hello_there():\n",
    "    print(\"Type your name:\")\n",
    "    name = input()\n",
    "    print(\"Hi\",name,\"how are you?\")\n",
    "    "
   ]
  },
  {
   "cell_type": "code",
   "execution_count": null,
   "id": "ed4ea7fc",
   "metadata": {},
   "outputs": [],
   "source": [
    "hello_there()"
   ]
  },
  {
   "cell_type": "markdown",
   "id": "9fedc0d5",
   "metadata": {},
   "source": [
    "### modules"
   ]
  },
  {
   "cell_type": "code",
   "execution_count": null,
   "id": "82b30dec",
   "metadata": {},
   "outputs": [],
   "source": [
    "import random"
   ]
  },
  {
   "cell_type": "code",
   "execution_count": null,
   "id": "08deb3bc",
   "metadata": {},
   "outputs": [],
   "source": [
    "random.randint(1,100)"
   ]
  },
  {
   "cell_type": "code",
   "execution_count": null,
   "id": "7870e2f7",
   "metadata": {},
   "outputs": [],
   "source": [
    "def check_num(mynum):\n",
    "    if mynum % 2 ==0:\n",
    "        print(\"là số chẵn\")\n",
    "    else:\n",
    "        print(\"là số lẻ\")"
   ]
  },
  {
   "cell_type": "markdown",
   "id": "7e3ade75",
   "metadata": {},
   "source": [
    "### let make a game\n",
    "game1: viết hàm guess1 chứa code trong side 79"
   ]
  },
  {
   "cell_type": "code",
   "execution_count": 28,
   "id": "fd15ca8b",
   "metadata": {},
   "outputs": [],
   "source": [
    "def guess1():\n",
    "    \"\"\"\n",
    "    Hàm chơi đoán số: Nhập số từ bàn phím để đoán số bí mật\n",
    "    \"\"\"\n",
    "    secret_number = 7\n",
    "\n",
    "    guess = int(input(\"what number am I thinking of? \"))\n",
    "\n",
    "    if secret_number == guess:\n",
    "        print(\"Yay! You got it.\")\n",
    "    else:\n",
    "        print(\"No,that's not it\")"
   ]
  },
  {
   "cell_type": "code",
   "execution_count": 24,
   "id": "ab7ad686",
   "metadata": {},
   "outputs": [
    {
     "name": "stdout",
     "output_type": "stream",
     "text": [
      "what number am I thinking of? 4\n",
      "No,that's not it\n"
     ]
    }
   ],
   "source": [
    "guess1()"
   ]
  },
  {
   "cell_type": "code",
   "execution_count": null,
   "id": "116c91cd",
   "metadata": {},
   "outputs": [],
   "source": [
    "from random import randint\n",
    "secret_number = randint(1, 10)\n",
    "\n",
    "while True:\n",
    " guess = input(\"What number am I thinking of? \")\n",
    "\n",
    " if secret_number == guess:\n",
    "    print(\"Yay! You got it.\")\n",
    "    break\n",
    " else:\n",
    "    print(\"No, that's not it.\")"
   ]
  },
  {
   "cell_type": "code",
   "execution_count": null,
   "id": "b2097f3d",
   "metadata": {},
   "outputs": [],
   "source": [
    "from random import randint\n",
    "\n",
    "secret_number = randint(1, 10)\n",
    "\n",
    "while True:\n",
    " guess = input(\"What number am I thinking of? \")\n",
    "\n",
    " if secret_number == guess:\n",
    "     print(\"Yay! You got it.\")\n",
    "     break\n",
    " elif secret_number > guess:\n",
    "     print(\"No, that's too low.\")\n",
    " else:\n",
    "     print(\"No, that's too high.\")\n",
    "        \n"
   ]
  },
  {
   "cell_type": "markdown",
   "id": "6bdf2eb0",
   "metadata": {},
   "source": [
    "### DOCSTRING(hướng dẫn sử dụng hàm)"
   ]
  },
  {
   "cell_type": "code",
   "execution_count": 25,
   "id": "bf166426",
   "metadata": {},
   "outputs": [
    {
     "name": "stdout",
     "output_type": "stream",
     "text": [
      "Object `random.randint` not found.\n"
     ]
    }
   ],
   "source": [
    "random.randint?"
   ]
  },
  {
   "cell_type": "code",
   "execution_count": 29,
   "id": "5022dd6b",
   "metadata": {},
   "outputs": [],
   "source": [
    "guess1?\n"
   ]
  },
  {
   "cell_type": "code",
   "execution_count": 33,
   "id": "8a361eb2",
   "metadata": {},
   "outputs": [
    {
     "ename": "IndentationError",
     "evalue": "unexpected indent (guessgames.py, line 3)",
     "output_type": "error",
     "traceback": [
      "Traceback \u001b[0;36m(most recent call last)\u001b[0m:\n",
      "\u001b[0m  File \u001b[1;32m/opt/tljh/user/lib/python3.9/site-packages/IPython/core/interactiveshell.py:3433\u001b[0m in \u001b[1;35mrun_code\u001b[0m\n    exec(code_obj, self.user_global_ns, self.user_ns)\u001b[0m\n",
      "\u001b[0;36m  Cell \u001b[0;32mIn [33], line 1\u001b[0;36m\n\u001b[0;31m    import guessgames\u001b[0;36m\n",
      "\u001b[0;36m  File \u001b[0;32m~/guessgames.py:3\u001b[0;36m\u001b[0m\n\u001b[0;31m    def guess1():\u001b[0m\n\u001b[0m    ^\u001b[0m\n\u001b[0;31mIndentationError\u001b[0m\u001b[0;31m:\u001b[0m unexpected indent\n"
     ]
    }
   ],
   "source": [
    "import guessgames"
   ]
  },
  {
   "cell_type": "code",
   "execution_count": 34,
   "id": "4c738084",
   "metadata": {},
   "outputs": [
    {
     "ename": "NameError",
     "evalue": "name 'guessgame' is not defined",
     "output_type": "error",
     "traceback": [
      "\u001b[0;31m---------------------------------------------------------------------------\u001b[0m",
      "\u001b[0;31mNameError\u001b[0m                                 Traceback (most recent call last)",
      "Cell \u001b[0;32mIn [34], line 1\u001b[0m\n\u001b[0;32m----> 1\u001b[0m \u001b[43mguessgame\u001b[49m\u001b[38;5;241m.\u001b[39mpy\n",
      "\u001b[0;31mNameError\u001b[0m: name 'guessgame' is not defined"
     ]
    }
   ],
   "source": [
    "guessgame.py"
   ]
  },
  {
   "cell_type": "code",
   "execution_count": null,
   "id": "b3d9685a",
   "metadata": {},
   "outputs": [],
   "source": []
  }
 ],
 "metadata": {
  "kernelspec": {
   "display_name": "Python 3 (ipykernel)",
   "language": "python",
   "name": "python3"
  },
  "language_info": {
   "codemirror_mode": {
    "name": "ipython",
    "version": 3
   },
   "file_extension": ".py",
   "mimetype": "text/x-python",
   "name": "python",
   "nbconvert_exporter": "python",
   "pygments_lexer": "ipython3",
   "version": "3.9.7"
  }
 },
 "nbformat": 4,
 "nbformat_minor": 5
}
